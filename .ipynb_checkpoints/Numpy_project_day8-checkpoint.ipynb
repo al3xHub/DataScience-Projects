{
 "cells": [
  {
   "cell_type": "markdown",
   "id": "1ff9b7b5",
   "metadata": {},
   "source": [
    "# Proyecto del Día 8 - Análisis de Datos Meteorológicos\n",
    "\n",
    "Este proyecto consiste en analizar un conjunto de datos meteorológicos utilizando Python y NumPy. \n",
    "El objetivo es aplicar las técnicas de manipulación de arrays, tratamiento de datos faltantes, \n",
    "y análisis estadístico básico en un conjunto de datos del mundo real.\n",
    "\n",
    "## Tareas a Realizar:\n",
    "1. Crear un DataFrame a partir de los datos del archivo **datos_meteorologicos.csv** provisto en esta lección.\n",
    "2. Realizar observaciones iniciales de los datos con Pandas.\n",
    "3. Convertir las columnas del DataFrame en arrays de NumPy.\n",
    "4. Identificar los datos faltantes en los arrays, y reemplazarlos por el promedio de los valores del respectivo array.\n",
    "5. Realizar análisis estadísticos básicos. Mínimamente se espera que puedas extraer la siguiente información de tus arrays:\n",
    "    * La temperatura promedio\n",
    "    * El total de precipitaciones\n",
    "    * La máxima humedad registrada\n",
    "    * La fecha más calurosa\n",
    "    * La fehca más fría\n",
    "6. Exportar los resultados a un nuevo archivo CSV.\n",
    "\n",
    "¡Mucha suerte con tu proyecto!\n"
   ]
  },
  {
   "cell_type": "markdown",
   "id": "6b416605",
   "metadata": {},
   "source": [
    "### 1. Crear un DataFrame a partir de los datos del archivo datos_meteorologicos.csv provisto en esta lección."
   ]
  },
  {
   "cell_type": "code",
   "execution_count": 1,
   "id": "4dabf813",
   "metadata": {},
   "outputs": [],
   "source": [
    "import pandas as pd\n",
    "import numpy as np"
   ]
  },
  {
   "cell_type": "code",
   "execution_count": 17,
   "id": "cdce105d-0a02-475f-85d6-9df469d5c19e",
   "metadata": {},
   "outputs": [],
   "source": [
    "ruta = '/Users/alejandrobueno/Documents/WWW/cursos,etc/Python/PythonTOTAL_DataScience/datos_meteorologicos.csv'\n",
    "archivo = pd.read_csv(ruta)"
   ]
  },
  {
   "cell_type": "code",
   "execution_count": 19,
   "id": "26bdc81b-524b-4f9b-b88a-802383fad497",
   "metadata": {},
   "outputs": [],
   "source": [
    "df = pd.DataFrame(archivo)"
   ]
  },
  {
   "cell_type": "markdown",
   "id": "bd5ba486",
   "metadata": {},
   "source": [
    "### 2. Realizar observaciones iniciales de los datos con Pandas."
   ]
  },
  {
   "cell_type": "code",
   "execution_count": 57,
   "id": "f6fb247d",
   "metadata": {
    "scrolled": true
   },
   "outputs": [
    {
     "name": "stdout",
     "output_type": "stream",
     "text": [
      "<class 'pandas.core.frame.DataFrame'>\n",
      "RangeIndex: 5110 entries, 0 to 5109\n",
      "Data columns (total 4 columns):\n",
      " #   Column         Non-Null Count  Dtype  \n",
      "---  ------         --------------  -----  \n",
      " 0   Fecha          5110 non-null   object \n",
      " 1   Temperatura    4855 non-null   float64\n",
      " 2   Precipitación  4855 non-null   float64\n",
      " 3   Humedad        4855 non-null   float64\n",
      "dtypes: float64(3), object(1)\n",
      "memory usage: 159.8+ KB\n"
     ]
    },
    {
     "data": {
      "text/html": [
       "<div>\n",
       "<style scoped>\n",
       "    .dataframe tbody tr th:only-of-type {\n",
       "        vertical-align: middle;\n",
       "    }\n",
       "\n",
       "    .dataframe tbody tr th {\n",
       "        vertical-align: top;\n",
       "    }\n",
       "\n",
       "    .dataframe thead th {\n",
       "        text-align: right;\n",
       "    }\n",
       "</style>\n",
       "<table border=\"1\" class=\"dataframe\">\n",
       "  <thead>\n",
       "    <tr style=\"text-align: right;\">\n",
       "      <th></th>\n",
       "      <th>Temperatura</th>\n",
       "      <th>Precipitación</th>\n",
       "      <th>Humedad</th>\n",
       "    </tr>\n",
       "  </thead>\n",
       "  <tbody>\n",
       "    <tr>\n",
       "      <th>count</th>\n",
       "      <td>4855.000000</td>\n",
       "      <td>4855.000000</td>\n",
       "      <td>4855.000000</td>\n",
       "    </tr>\n",
       "    <tr>\n",
       "      <th>mean</th>\n",
       "      <td>14.889296</td>\n",
       "      <td>9.901604</td>\n",
       "      <td>54.359061</td>\n",
       "    </tr>\n",
       "    <tr>\n",
       "      <th>std</th>\n",
       "      <td>14.440466</td>\n",
       "      <td>5.801842</td>\n",
       "      <td>26.096345</td>\n",
       "    </tr>\n",
       "    <tr>\n",
       "      <th>min</th>\n",
       "      <td>-9.996378</td>\n",
       "      <td>0.003008</td>\n",
       "      <td>10.014980</td>\n",
       "    </tr>\n",
       "    <tr>\n",
       "      <th>25%</th>\n",
       "      <td>2.651777</td>\n",
       "      <td>4.756907</td>\n",
       "      <td>31.866578</td>\n",
       "    </tr>\n",
       "    <tr>\n",
       "      <th>50%</th>\n",
       "      <td>14.693274</td>\n",
       "      <td>9.853698</td>\n",
       "      <td>54.254478</td>\n",
       "    </tr>\n",
       "    <tr>\n",
       "      <th>75%</th>\n",
       "      <td>27.381451</td>\n",
       "      <td>14.966997</td>\n",
       "      <td>77.029500</td>\n",
       "    </tr>\n",
       "    <tr>\n",
       "      <th>max</th>\n",
       "      <td>39.998201</td>\n",
       "      <td>19.999559</td>\n",
       "      <td>99.996582</td>\n",
       "    </tr>\n",
       "  </tbody>\n",
       "</table>\n",
       "</div>"
      ],
      "text/plain": [
       "       Temperatura  Precipitación      Humedad\n",
       "count  4855.000000    4855.000000  4855.000000\n",
       "mean     14.889296       9.901604    54.359061\n",
       "std      14.440466       5.801842    26.096345\n",
       "min      -9.996378       0.003008    10.014980\n",
       "25%       2.651777       4.756907    31.866578\n",
       "50%      14.693274       9.853698    54.254478\n",
       "75%      27.381451      14.966997    77.029500\n",
       "max      39.998201      19.999559    99.996582"
      ]
     },
     "execution_count": 57,
     "metadata": {},
     "output_type": "execute_result"
    }
   ],
   "source": [
    "df.info()\n",
    "df.describe()"
   ]
  },
  {
   "cell_type": "markdown",
   "id": "9a6f36ea",
   "metadata": {},
   "source": [
    "### 3. Convertir las columnas del DataFrame en arrays de NumPy."
   ]
  },
  {
   "cell_type": "code",
   "execution_count": 67,
   "id": "04ee9183",
   "metadata": {},
   "outputs": [],
   "source": [
    "temperatura = df['Temperatura'].to_numpy()\n",
    "precipitacion = df['Precipitación'].to_numpy()\n",
    "humedad = df['Humedad'].to_numpy()"
   ]
  },
  {
   "cell_type": "markdown",
   "id": "ea34bb17",
   "metadata": {},
   "source": [
    "### 4. Identificar los datos faltantes en los arrays, y reemplazarlos por el promedio de los valores del respectivo array."
   ]
  },
  {
   "cell_type": "code",
   "execution_count": 79,
   "id": "65f3ba49",
   "metadata": {},
   "outputs": [],
   "source": [
    "#Temperatura\n",
    "null_temp = np.isnan(temperatura)\n",
    "promedio_temp = np.nanmean(temperatura)\n",
    "temperatura[null_temp] = promedio_temp\n",
    "\n",
    "#Precipitación\n",
    "null_precipi = np.isnan(precipitacion)\n",
    "promedio_precipi = np.nanmean(precipitacion)\n",
    "precipitacion[null_precipi] = promedio_precipi\n",
    "\n",
    "#Humedad\n",
    "null_hum = np.isnan(humedad)\n",
    "promedio_hum = np.nanmean(humedad)\n",
    "humedad[null_hum] = promedio_hum"
   ]
  },
  {
   "cell_type": "markdown",
   "id": "e9cc83f2",
   "metadata": {},
   "source": [
    "### 5. Realizar análisis estadísticos básicos.\n",
    "\n",
    "##### Temperatura promedio"
   ]
  },
  {
   "cell_type": "code",
   "execution_count": 107,
   "id": "35631de2",
   "metadata": {},
   "outputs": [],
   "source": [
    "temp_promedio = np.mean(humedad)"
   ]
  },
  {
   "cell_type": "markdown",
   "id": "3d5b50ca",
   "metadata": {},
   "source": [
    "##### Total de precipitaciones"
   ]
  },
  {
   "cell_type": "code",
   "execution_count": 87,
   "id": "55ea942d",
   "metadata": {},
   "outputs": [
    {
     "data": {
      "text/plain": [
       "50597.19438939993"
      ]
     },
     "execution_count": 87,
     "metadata": {},
     "output_type": "execute_result"
    }
   ],
   "source": [
    "precipi_total = np.sum(precipitacion)\n",
    "precipi_total"
   ]
  },
  {
   "cell_type": "markdown",
   "id": "37408d44",
   "metadata": {},
   "source": [
    "##### Máxima humedad registrada"
   ]
  },
  {
   "cell_type": "code",
   "execution_count": 91,
   "id": "915e24c5",
   "metadata": {},
   "outputs": [
    {
     "data": {
      "text/plain": [
       "99.99658156071747"
      ]
     },
     "execution_count": 91,
     "metadata": {},
     "output_type": "execute_result"
    }
   ],
   "source": [
    "hum_max = np.max(humedad)\n",
    "hum_max"
   ]
  },
  {
   "cell_type": "markdown",
   "id": "feabf8f5",
   "metadata": {},
   "source": [
    "##### Fecha más calurosa"
   ]
  },
  {
   "cell_type": "code",
   "execution_count": 99,
   "id": "bedde039",
   "metadata": {},
   "outputs": [
    {
     "data": {
      "text/plain": [
       "'12/07/2017'"
      ]
     },
     "execution_count": 99,
     "metadata": {},
     "output_type": "execute_result"
    }
   ],
   "source": [
    "max_calor = np.max(temperatura)\n",
    "max_calor\n",
    "\n",
    "index_max_calor = np.where(temperatura == max_calor)[0][0]\n",
    "\n",
    "fecha_max_calor = df.iloc[index_max_calor]['Fecha']\n",
    "fecha_max_calor"
   ]
  },
  {
   "cell_type": "markdown",
   "id": "f30a99e0",
   "metadata": {},
   "source": [
    "##### Fehca más fría"
   ]
  },
  {
   "cell_type": "code",
   "execution_count": 105,
   "id": "68f820f0",
   "metadata": {},
   "outputs": [
    {
     "data": {
      "text/plain": [
       "'23/07/2020'"
      ]
     },
     "execution_count": 105,
     "metadata": {},
     "output_type": "execute_result"
    }
   ],
   "source": [
    "max_frio = np.min(temperatura)\n",
    "max_frio\n",
    "\n",
    "index_max_frio = np.where(temperatura == max_frio)[0][0]\n",
    "\n",
    "fecha_max_frio = df.iloc[index_max_frio]['Fecha']\n",
    "fecha_max_frio\n"
   ]
  },
  {
   "cell_type": "markdown",
   "id": "ff7d173c",
   "metadata": {},
   "source": [
    "### 6. Exportar los resultados a un nuevo archivo CSV."
   ]
  },
  {
   "cell_type": "code",
   "execution_count": 111,
   "id": "e0cdfaee",
   "metadata": {},
   "outputs": [],
   "source": [
    "resultados = pd.DataFrame({\n",
    "    'Metricas':['Temperatura Promedio', 'Total precipitaciones', 'Máxima humedad', 'Fecha más calurosa', 'Fecha mas fría'],\n",
    "    'Valores':[temp_promedio, precipi_total, hum_max, fecha_max_calor, fecha_max_frio]\n",
    "})\n",
    "resultados.to_csv('resultados_meteorologicos.csv', index=False)"
   ]
  },
  {
   "cell_type": "raw",
   "id": "a4da5760-75e9-4f0e-9c39-e2c67febdf26",
   "metadata": {},
   "source": []
  }
 ],
 "metadata": {
  "kernelspec": {
   "display_name": "Python 3 (ipykernel)",
   "language": "python",
   "name": "python3"
  },
  "language_info": {
   "codemirror_mode": {
    "name": "ipython",
    "version": 3
   },
   "file_extension": ".py",
   "mimetype": "text/x-python",
   "name": "python",
   "nbconvert_exporter": "python",
   "pygments_lexer": "ipython3",
   "version": "3.12.4"
  }
 },
 "nbformat": 4,
 "nbformat_minor": 5
}
