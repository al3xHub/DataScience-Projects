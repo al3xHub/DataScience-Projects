{
 "cells": [
  {
   "cell_type": "markdown",
   "id": "e9e58d8e",
   "metadata": {},
   "source": [
    "# Proyecto del Día 7 - Analizador de Ventas\n",
    "\n",
    "### Objetivo\n",
    "Crear un programa en Python que analice un conjunto de **datos de ventas de una tienda**. El programa debe realizar varias operaciones de Data Science para proporcionar información valiosa sobre las ventas de la tienda.\n",
    "\n",
    "### Consigna\n",
    "\n",
    "1. **Lectura de Datos**: Crea un DataFrame que contenga los datos provistos en el archivo **Datos_Ventas_Tienda.csv** provisto en esta lección. El archivo incluirá información como *fecha de venta*, *categoría de producto*, *cantidad vendida* y *precio*.\n",
    "2. **Fusión de Datos**: Crea un segundo DataFrame que contenga los datos del archivo **Datos_Ventas_Tienda2.csv** (también provisto en esta lección), y concaténalos para tener un solo dataFrame con toda la información.\n",
    "\n",
    "3. **Tratamiento de Datos**: Utiliza Pandas para manipular estos datos. Deberás realizar tareas como limpieza de datos, filtrado y  transformaciones básicas.\n",
    "4. **Análisis de Ventas**: Realiza análisis para responder preguntas como:\n",
    "- ¿Cuál es el producto más vendido?\n",
    "- ¿Cuál es el mes con más ventas?\n",
    "5. **Datos Agrupados**: Agrupa los datos por categoría de producto y analiza las ventas por categoría.\n",
    "6. **Guardar Resultados**: Al final, guarda el DataFrame completo (incluyendo la columna de meses) en un archivo .csv en tu ordenador."
   ]
  },
  {
   "cell_type": "code",
   "execution_count": 3,
   "id": "67cdbc0b",
   "metadata": {},
   "outputs": [],
   "source": [
    "import pandas as pd"
   ]
  },
  {
   "cell_type": "code",
   "execution_count": 5,
   "id": "474e2954-ac7f-48c1-b0d0-6e498c40049c",
   "metadata": {},
   "outputs": [],
   "source": [
    "# Lectura de datos\n",
    "datos_tienda_1 = pd.read_csv(\"/Users/alejandrobueno/Documents/WWW/cursos,etc/Python/PythonTOTAL_DataScience/Datos_Ventas_Tienda.csv\")\n",
    "datos_tienda_2 = pd.read_csv(\"/Users/alejandrobueno/Documents/WWW/cursos,etc/Python/PythonTOTAL_DataScience/Datos_Ventas_Tienda2.csv\")"
   ]
  },
  {
   "cell_type": "code",
   "execution_count": 21,
   "id": "22035b83-d730-473e-93cc-2f0847ec2ef4",
   "metadata": {},
   "outputs": [
    {
     "data": {
      "text/html": [
       "<div>\n",
       "<style scoped>\n",
       "    .dataframe tbody tr th:only-of-type {\n",
       "        vertical-align: middle;\n",
       "    }\n",
       "\n",
       "    .dataframe tbody tr th {\n",
       "        vertical-align: top;\n",
       "    }\n",
       "\n",
       "    .dataframe thead th {\n",
       "        text-align: right;\n",
       "    }\n",
       "</style>\n",
       "<table border=\"1\" class=\"dataframe\">\n",
       "  <thead>\n",
       "    <tr style=\"text-align: right;\">\n",
       "      <th></th>\n",
       "      <th>Fecha</th>\n",
       "      <th>Producto</th>\n",
       "      <th>Cantidad</th>\n",
       "      <th>Precio Unitario</th>\n",
       "      <th>Total Venta</th>\n",
       "    </tr>\n",
       "  </thead>\n",
       "  <tbody>\n",
       "    <tr>\n",
       "      <th>0</th>\n",
       "      <td>1/17/2023</td>\n",
       "      <td>Electrónic</td>\n",
       "      <td>7</td>\n",
       "      <td>200</td>\n",
       "      <td>1400</td>\n",
       "    </tr>\n",
       "    <tr>\n",
       "      <th>1</th>\n",
       "      <td>9/1/2023</td>\n",
       "      <td>Electrónic</td>\n",
       "      <td>8</td>\n",
       "      <td>200</td>\n",
       "      <td>1600</td>\n",
       "    </tr>\n",
       "    <tr>\n",
       "      <th>2</th>\n",
       "      <td>7/29/2023</td>\n",
       "      <td>Juguetes</td>\n",
       "      <td>3</td>\n",
       "      <td>30</td>\n",
       "      <td>90</td>\n",
       "    </tr>\n",
       "    <tr>\n",
       "      <th>3</th>\n",
       "      <td>10/4/2023</td>\n",
       "      <td>Alimentos</td>\n",
       "      <td>4</td>\n",
       "      <td>10</td>\n",
       "      <td>40</td>\n",
       "    </tr>\n",
       "    <tr>\n",
       "      <th>4</th>\n",
       "      <td>2/28/2023</td>\n",
       "      <td>Electrónic</td>\n",
       "      <td>6</td>\n",
       "      <td>200</td>\n",
       "      <td>1200</td>\n",
       "    </tr>\n",
       "    <tr>\n",
       "      <th>...</th>\n",
       "      <td>...</td>\n",
       "      <td>...</td>\n",
       "      <td>...</td>\n",
       "      <td>...</td>\n",
       "      <td>...</td>\n",
       "    </tr>\n",
       "    <tr>\n",
       "      <th>45</th>\n",
       "      <td>9/11/2023</td>\n",
       "      <td>Juguetes</td>\n",
       "      <td>10</td>\n",
       "      <td>30</td>\n",
       "      <td>300</td>\n",
       "    </tr>\n",
       "    <tr>\n",
       "      <th>46</th>\n",
       "      <td>1/3/2023</td>\n",
       "      <td>Juguetes</td>\n",
       "      <td>10</td>\n",
       "      <td>30</td>\n",
       "      <td>300</td>\n",
       "    </tr>\n",
       "    <tr>\n",
       "      <th>47</th>\n",
       "      <td>11/7/2023</td>\n",
       "      <td>Alimentos</td>\n",
       "      <td>3</td>\n",
       "      <td>10</td>\n",
       "      <td>30</td>\n",
       "    </tr>\n",
       "    <tr>\n",
       "      <th>48</th>\n",
       "      <td>8/20/2023</td>\n",
       "      <td>Electrónic</td>\n",
       "      <td>6</td>\n",
       "      <td>200</td>\n",
       "      <td>1200</td>\n",
       "    </tr>\n",
       "    <tr>\n",
       "      <th>49</th>\n",
       "      <td>7/21/2023</td>\n",
       "      <td>Juguetes</td>\n",
       "      <td>3</td>\n",
       "      <td>30</td>\n",
       "      <td>90</td>\n",
       "    </tr>\n",
       "  </tbody>\n",
       "</table>\n",
       "<p>1050 rows × 5 columns</p>\n",
       "</div>"
      ],
      "text/plain": [
       "        Fecha    Producto  Cantidad  Precio Unitario  Total Venta\n",
       "0   1/17/2023  Electrónic         7              200         1400\n",
       "1    9/1/2023  Electrónic         8              200         1600\n",
       "2   7/29/2023    Juguetes         3               30           90\n",
       "3   10/4/2023   Alimentos         4               10           40\n",
       "4   2/28/2023  Electrónic         6              200         1200\n",
       "..        ...         ...       ...              ...          ...\n",
       "45  9/11/2023    Juguetes        10               30          300\n",
       "46   1/3/2023    Juguetes        10               30          300\n",
       "47  11/7/2023   Alimentos         3               10           30\n",
       "48  8/20/2023  Electrónic         6              200         1200\n",
       "49  7/21/2023    Juguetes         3               30           90\n",
       "\n",
       "[1050 rows x 5 columns]"
      ]
     },
     "execution_count": 21,
     "metadata": {},
     "output_type": "execute_result"
    }
   ],
   "source": [
    "# Fusión de datos\n",
    "df_concatenado = pd.concat([datos_tienda_1, datos_tienda_2])\n",
    "df_concatenado"
   ]
  },
  {
   "cell_type": "code",
   "execution_count": 19,
   "id": "7603686b-fcfc-4ef3-9c2e-5161248abe3d",
   "metadata": {},
   "outputs": [
    {
     "data": {
      "text/plain": [
       "Fecha              0\n",
       "Producto           0\n",
       "Cantidad           0\n",
       "Precio Unitario    0\n",
       "Total Venta        0\n",
       "dtype: int64"
      ]
     },
     "execution_count": 19,
     "metadata": {},
     "output_type": "execute_result"
    }
   ],
   "source": [
    "#Limpieza\n",
    "df_concatenado.isnull().sum()"
   ]
  },
  {
   "cell_type": "code",
   "execution_count": 69,
   "id": "bb14cec4-d9ef-4767-84e9-12ef10b70c38",
   "metadata": {},
   "outputs": [
    {
     "name": "stdout",
     "output_type": "stream",
     "text": [
      "<class 'pandas.core.frame.DataFrame'>\n",
      "Index: 1050 entries, 0 to 49\n",
      "Data columns (total 5 columns):\n",
      " #   Column           Non-Null Count  Dtype \n",
      "---  ------           --------------  ----- \n",
      " 0   Fecha            1050 non-null   object\n",
      " 1   Producto         1050 non-null   object\n",
      " 2   Cantidad         1050 non-null   int64 \n",
      " 3   Precio Unitario  1050 non-null   int64 \n",
      " 4   Total Venta      1050 non-null   int64 \n",
      "dtypes: int64(3), object(2)\n",
      "memory usage: 49.2+ KB\n"
     ]
    }
   ],
   "source": [
    "#Transformaciones básicas\n",
    "df_concatenado.head()\n",
    "df_concatenado.info()"
   ]
  },
  {
   "cell_type": "code",
   "execution_count": 45,
   "id": "5fd7719c-e5cf-4e0a-a84d-d54618a25f88",
   "metadata": {},
   "outputs": [],
   "source": [
    "#Filtrado\n",
    "filtrando_ventas = df_concatenado[df_concatenado[\"Total Venta\"] >= 1200]"
   ]
  },
  {
   "cell_type": "code",
   "execution_count": 67,
   "id": "4919e98c-0b49-4902-b52d-f3694612fcfe",
   "metadata": {},
   "outputs": [
    {
     "data": {
      "text/html": [
       "<div>\n",
       "<style scoped>\n",
       "    .dataframe tbody tr th:only-of-type {\n",
       "        vertical-align: middle;\n",
       "    }\n",
       "\n",
       "    .dataframe tbody tr th {\n",
       "        vertical-align: top;\n",
       "    }\n",
       "\n",
       "    .dataframe thead th {\n",
       "        text-align: right;\n",
       "    }\n",
       "</style>\n",
       "<table border=\"1\" class=\"dataframe\">\n",
       "  <thead>\n",
       "    <tr style=\"text-align: right;\">\n",
       "      <th></th>\n",
       "      <th>Fecha</th>\n",
       "      <th>Producto</th>\n",
       "      <th>Cantidad</th>\n",
       "      <th>Precio Unitario</th>\n",
       "      <th>Total Venta</th>\n",
       "    </tr>\n",
       "  </thead>\n",
       "  <tbody>\n",
       "    <tr>\n",
       "      <th>583</th>\n",
       "      <td>1/12/2023</td>\n",
       "      <td>Electrónic</td>\n",
       "      <td>10</td>\n",
       "      <td>200</td>\n",
       "      <td>2000</td>\n",
       "    </tr>\n",
       "  </tbody>\n",
       "</table>\n",
       "</div>"
      ],
      "text/plain": [
       "         Fecha    Producto  Cantidad  Precio Unitario  Total Venta\n",
       "583  1/12/2023  Electrónic        10              200         2000"
      ]
     },
     "execution_count": 67,
     "metadata": {},
     "output_type": "execute_result"
    }
   ],
   "source": [
    "#Analisis de ventas\n",
    "# Producto más vendido\n",
    "mas_ventas = df_concatenado.sort_values(\"Total Venta\", ascending=False)\n",
    "mas_ventas.head(1)"
   ]
  },
  {
   "cell_type": "code",
   "execution_count": 107,
   "id": "f9e8182f-dfd1-4aa1-adf7-995e0a5a160d",
   "metadata": {},
   "outputs": [
    {
     "data": {
      "text/plain": [
       "[8, 45090]"
      ]
     },
     "execution_count": 107,
     "metadata": {},
     "output_type": "execute_result"
    }
   ],
   "source": [
    "# Mes con más ventas\n",
    "df_concatenado[\"Fecha\"] = pd.to_datetime(df_concatenado[\"Fecha\"])\n",
    "df_concatenado[\"month\"] = df_concatenado[\"Fecha\"].dt.month\n",
    "df_venta_meses = df_concatenado.groupby(\"month\")[\"Total Venta\"].sum()\n",
    "mes_mas_ventas = [df_venta_meses.idxmax(), df_venta_meses.max()]\n",
    "mes_mas_ventas"
   ]
  },
  {
   "cell_type": "code",
   "execution_count": 123,
   "id": "a3c17e96-5fb3-4a04-b46c-56e53fa18283",
   "metadata": {},
   "outputs": [
    {
     "data": {
      "text/plain": [
       "Producto\n",
       "Alimentos       56.339286\n",
       "Electrónic    1074.889868\n",
       "Juguetes       162.087379\n",
       "Libros         107.422680\n",
       "Ropa           283.417085\n",
       "Name: Total Venta, dtype: float64"
      ]
     },
     "execution_count": 123,
     "metadata": {},
     "output_type": "execute_result"
    }
   ],
   "source": [
    "#Datos agrupados\n",
    "df_agrupado = df_concatenado.groupby(\"Producto\")[\"Total Venta\"].mean()\n",
    "df_agrupado"
   ]
  },
  {
   "cell_type": "code",
   "execution_count": 125,
   "id": "0df37bac-d01c-4ff8-9d6c-acf0a15b27cd",
   "metadata": {},
   "outputs": [],
   "source": [
    "#Guardar y exportar\n",
    "df_agrupado.to_excel(\"/Users/alejandrobueno/Documents/WWW/cursos,etc/Python/PythonTOTAL_DataScience/df_agrupado.xlsx\")"
   ]
  }
 ],
 "metadata": {
  "kernelspec": {
   "display_name": "Python 3 (ipykernel)",
   "language": "python",
   "name": "python3"
  },
  "language_info": {
   "codemirror_mode": {
    "name": "ipython",
    "version": 3
   },
   "file_extension": ".py",
   "mimetype": "text/x-python",
   "name": "python",
   "nbconvert_exporter": "python",
   "pygments_lexer": "ipython3",
   "version": "3.12.4"
  }
 },
 "nbformat": 4,
 "nbformat_minor": 5
}
